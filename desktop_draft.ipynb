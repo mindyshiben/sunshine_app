{
 "cells": [
  {
   "cell_type": "code",
   "execution_count": 1,
   "id": "4ce3c92d",
   "metadata": {},
   "outputs": [],
   "source": [
    "import pandas as pd\n",
    "import requests\n",
    "import numpy\n",
    "import pgeocode\n",
    "import tkinter as tk\n",
    "import datetime\n",
    "from PIL import Image, ImageTk\n",
    "from pyzipcode import ZipCodeDatabase\n",
    "from datetime import timedelta \n",
    "import tkinter as tk"
   ]
  },
  {
   "cell_type": "code",
   "execution_count": 3,
   "id": "e96ca616",
   "metadata": {},
   "outputs": [
    {
     "name": "stdout",
     "output_type": "stream",
     "text": [
      "<class 'dict'>\n"
     ]
    },
    {
     "name": "stderr",
     "output_type": "stream",
     "text": [
      "Exception in Tkinter callback\n",
      "Traceback (most recent call last):\n",
      "  File \"/usr/local/anaconda3/lib/python3.9/tkinter/__init__.py\", line 1892, in __call__\n",
      "    return self.func(*args)\n",
      "  File \"/var/folders/s4/hmz6ljm533vgpm_bhv59yw0m0000gn/T/ipykernel_32706/4095664935.py\", line 58, in <lambda>\n",
      "    submit = tk.Button(frame, text='Zips', font=40, command=lambda: get_zipcode(textbox.get()))\n",
      "  File \"/var/folders/s4/hmz6ljm533vgpm_bhv59yw0m0000gn/T/ipykernel_32706/4095664935.py\", line 32, in get_zipcode\n",
      "    icon_name = weather_json['weather'][0]['icon']\n",
      "NameError: name 'weather_json' is not defined\n"
     ]
    }
   ],
   "source": [
    "app = tk.Tk()\n",
    "\n",
    "HEIGHT = 500\n",
    "WIDTH = 600\n",
    "\n",
    "def format_response(sunsunrise):\n",
    "    \n",
    "    name = sunsunrise\n",
    "    final_str = 'City: %s' % (name)\n",
    "    return final_str\n",
    "\n",
    "\n",
    "def get_zipcode(zipcode):\n",
    "\n",
    "    zcdb = ZipCodeDatabase()\n",
    "    zipcode = zcdb[(zipcode)]\n",
    "    diff = zipcode.timezone\n",
    "    diff = (diff +1)\n",
    "    df = pgeocode.Nominatim('us')\n",
    "    df = df.query_postal_code(zipcode.zip)\n",
    "    latitude = df.latitude\n",
    "    longitude = df.longitude\n",
    "    response = requests.get(f'https://api.sunrise-sunset.org/json?lat={latitude}&lng={longitude}')\n",
    "    data = response.json()\n",
    "    print(type(data))\n",
    "    data.keys()\n",
    "    sunrise = data['results']['sunrise']\n",
    "    sunrise = sunrise[: - 3]\n",
    "    sunrise = pd.to_timedelta(sunrise)\n",
    "    sunsunrise = [(sunrise) + (timedelta(hours=(diff)))]  \n",
    "    results['text'] = format_response(sunsunrise)\n",
    "    icon_name = weather_json['weather'][0]['icon']\n",
    "    open_image(icon_name)\n",
    "\n",
    "\n",
    "\n",
    "def open_image(icon):\n",
    "    size = int(lower_frame.winfo_height()*0.25)\n",
    "    img = ImageTk.PhotoImage(Image.open('./img/'+icon+'.png').resize((size, size)))\n",
    "    weather_icon.delete(\"all\")\n",
    "    weather_icon.create_image(0,0, anchor='nw', image=img)\n",
    "    weather_icon.image = img\n",
    "\n",
    "C = tk.Canvas(app, height=HEIGHT, width=WIDTH)\n",
    "background_image= tk.PhotoImage(file='./landscape.png')\n",
    "background_label = tk.Label(app, image=background_image)\n",
    "background_label.place(x=0, y=0, relwidth=1, relheight=1)\n",
    "\n",
    "C.pack()\n",
    "\n",
    "frame = tk.Frame(app,  bg='#42c2f4', bd=5)\n",
    "frame.place(relx=0.5, rely=0.1, relwidth=0.75, relheight=0.1, anchor='n')\n",
    "#frame_window = C.create_window(100, 40, window=frame)\n",
    "\n",
    "textbox = tk.Entry(frame, font=40)\n",
    "textbox.place(relwidth=0.65, relheight=1)\n",
    "\n",
    "submit = tk.Button(frame, text='Zips', font=40, command=lambda: get_zipcode(textbox.get()))\n",
    "#submit.config(font=)\n",
    "submit.place(relx=0.7, relheight=1, relwidth=0.3)\n",
    "\n",
    "lower_frame = tk.Frame(app, bg='#42c2f4', bd=10)\n",
    "lower_frame.place(relx=0.5, rely=0.25, relwidth=0.75, relheight=0.6, anchor='n')\n",
    "\n",
    "bg_color = 'white'\n",
    "results = tk.Label(lower_frame, anchor='nw', justify='left', bd=4)\n",
    "results.config(font=40, bg=bg_color)\n",
    "results.place(relwidth=1, relheight=1)\n",
    "\n",
    "\n",
    "weather_icon = tk.Canvas(results, bg=bg_color, bd=0, highlightthickness=0)\n",
    "weather_icon.place(relx=.75, rely=0, relwidth=1, relheight=0.5)\n",
    "\n",
    "\n",
    "app.mainloop()\n"
   ]
  },
  {
   "cell_type": "code",
   "execution_count": null,
   "id": "a61b4e23",
   "metadata": {},
   "outputs": [],
   "source": []
  }
 ],
 "metadata": {
  "kernelspec": {
   "display_name": "Python 3 (ipykernel)",
   "language": "python",
   "name": "python3"
  },
  "language_info": {
   "codemirror_mode": {
    "name": "ipython",
    "version": 3
   },
   "file_extension": ".py",
   "mimetype": "text/x-python",
   "name": "python",
   "nbconvert_exporter": "python",
   "pygments_lexer": "ipython3",
   "version": "3.9.7"
  }
 },
 "nbformat": 4,
 "nbformat_minor": 5
}
