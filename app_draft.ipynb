{
 "cells": [
  {
   "cell_type": "code",
   "execution_count": 1,
   "id": "67b68b3c",
   "metadata": {},
   "outputs": [
    {
     "name": "stderr",
     "output_type": "stream",
     "text": [
      "[INFO   ] [Logger      ] Record log in /Users/mindyshiben/.kivy/logs/kivy_22-06-24_3.txt\n",
      "[INFO   ] [Kivy        ] v2.1.0\n",
      "[INFO   ] [Kivy        ] Installed at \"/usr/local/anaconda3/lib/python3.9/site-packages/kivy/__init__.py\"\n",
      "[INFO   ] [Python      ] v3.9.7 (default, Sep 16 2021, 08:50:36) \n",
      "[Clang 10.0.0 ]\n",
      "[INFO   ] [Python      ] Interpreter at \"/usr/local/anaconda3/bin/python\"\n",
      "[INFO   ] [Logger      ] Purge log fired. Processing...\n",
      "[INFO   ] [Logger      ] Purge finished!\n",
      "[INFO   ] [Factory     ] 189 symbols loaded\n",
      "[INFO   ] [Image       ] Providers: img_tex, img_imageio, img_dds, img_sdl2, img_pil (img_ffpyplayer ignored)\n",
      "[INFO   ] [Text        ] Provider: sdl2\n"
     ]
    }
   ],
   "source": [
    "import kivy"
   ]
  },
  {
   "cell_type": "code",
   "execution_count": 2,
   "id": "ee341725",
   "metadata": {},
   "outputs": [],
   "source": [
    "#from kivy.app import App\n",
    "from kivy.uix.label import Label\n",
    "from kivy.uix.gridlayout import GridLayout\n",
    "#from kivy.uix.textinput import TextInput"
   ]
  },
  {
   "cell_type": "code",
   "execution_count": 3,
   "id": "e6914471",
   "metadata": {},
   "outputs": [],
   "source": [
    "from kivy.uix.button import Button\n",
    "from kivy.uix.image import Image"
   ]
  },
  {
   "cell_type": "code",
   "execution_count": null,
   "id": "344965a3",
   "metadata": {},
   "outputs": [],
   "source": []
  }
 ],
 "metadata": {
  "kernelspec": {
   "display_name": "Python 3 (ipykernel)",
   "language": "python",
   "name": "python3"
  },
  "language_info": {
   "codemirror_mode": {
    "name": "ipython",
    "version": 3
   },
   "file_extension": ".py",
   "mimetype": "text/x-python",
   "name": "python",
   "nbconvert_exporter": "python",
   "pygments_lexer": "ipython3",
   "version": "3.9.7"
  }
 },
 "nbformat": 4,
 "nbformat_minor": 5
}
